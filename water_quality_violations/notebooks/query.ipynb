{
 "cells": [
  {
   "cell_type": "code",
   "execution_count": 9,
   "metadata": {},
   "outputs": [],
   "source": [
    "#imports and setup\n",
    "import pandas as pd\n",
    "import json\n",
    "import matplotlib\n",
    "import matplotlib.pyplot as plt\n",
    "import easymoney as em\n",
    "from easymoney.money import EasyPeasy\n",
    "ep = EasyPeasy()\n",
    "\n",
    "%matplotlib inline  "
   ]
  },
  {
   "cell_type": "code",
   "execution_count": 17,
   "metadata": {},
   "outputs": [],
   "source": [
    "#Load up data\n",
    "ws = pd.read_csv('../datasets/final/cws_violations_p_year_w_demo.csv')\n",
    "med_inc = pd.read_csv('../datasets/raw/income/national/usa_median_hh_income.csv')\n",
    "adjusted_inc = pd.DataFrame(columns=['year', 'median_hh_income'])"
   ]
  },
  {
   "cell_type": "code",
   "execution_count": 18,
   "metadata": {},
   "outputs": [
    {
     "name": "stderr",
     "output_type": "stream",
     "text": [
      "/Library/Frameworks/Python.framework/Versions/3.6/lib/python3.6/site-packages/ipykernel_launcher.py:6: FutureWarning: set_value is deprecated and will be removed in a future release. Please use .at[] or .iat[] accessors instead\n",
      "  \n",
      "/Library/Frameworks/Python.framework/Versions/3.6/lib/python3.6/site-packages/ipykernel_launcher.py:7: FutureWarning: set_value is deprecated and will be removed in a future release. Please use .at[] or .iat[] accessors instead\n",
      "  import sys\n"
     ]
    },
    {
     "data": {
      "text/html": [
       "<div>\n",
       "<style scoped>\n",
       "    .dataframe tbody tr th:only-of-type {\n",
       "        vertical-align: middle;\n",
       "    }\n",
       "\n",
       "    .dataframe tbody tr th {\n",
       "        vertical-align: top;\n",
       "    }\n",
       "\n",
       "    .dataframe thead th {\n",
       "        text-align: right;\n",
       "    }\n",
       "</style>\n",
       "<table border=\"1\" class=\"dataframe\">\n",
       "  <thead>\n",
       "    <tr style=\"text-align: right;\">\n",
       "      <th></th>\n",
       "      <th>median_hh_income</th>\n",
       "    </tr>\n",
       "    <tr>\n",
       "      <th>year</th>\n",
       "      <th></th>\n",
       "    </tr>\n",
       "  </thead>\n",
       "  <tbody>\n",
       "    <tr>\n",
       "      <th>1982</th>\n",
       "      <td>41351.2</td>\n",
       "    </tr>\n",
       "    <tr>\n",
       "      <th>1983</th>\n",
       "      <td>41261.6</td>\n",
       "    </tr>\n",
       "    <tr>\n",
       "      <th>1984</th>\n",
       "      <td>44912.1</td>\n",
       "    </tr>\n",
       "    <tr>\n",
       "      <th>1985</th>\n",
       "      <td>45702</td>\n",
       "    </tr>\n",
       "    <tr>\n",
       "      <th>1986</th>\n",
       "      <td>47279.6</td>\n",
       "    </tr>\n",
       "  </tbody>\n",
       "</table>\n",
       "</div>"
      ],
      "text/plain": [
       "     median_hh_income\n",
       "year                 \n",
       "1982          41351.2\n",
       "1983          41261.6\n",
       "1984          44912.1\n",
       "1985            45702\n",
       "1986          47279.6"
      ]
     },
     "execution_count": 18,
     "metadata": {},
     "output_type": "execute_result"
    }
   ],
   "source": [
    "#Adjust national median income to 2015 dollars\n",
    "for i, inc in enumerate(med_inc.itertuples()):\n",
    "    _year = getattr(inc, 'year')\n",
    "    _inc = getattr(inc, 'median_hh_income')\n",
    "    _2015_dollars = ep.normalize(amount=_inc, region=\"USA\", from_year=_year, to_year=2015)\n",
    "    adjusted_inc.set_value(i, 'year', _year)\n",
    "    adjusted_inc.set_value(i, 'median_hh_income', _2015_dollars)\n",
    "\n",
    "adjusted_inc = adjusted_inc.set_index('year')\n",
    "adjusted_inc.head()"
   ]
  },
  {
   "cell_type": "code",
   "execution_count": 19,
   "metadata": {},
   "outputs": [],
   "source": [
    "#Filter average violations according to these demographic definitions:\n",
    "# rural = <16 units per square mile sub-urban = 16–380.7 urban => 380.7\n",
    "# low income is below 75% of national median household income.\n",
    "\n",
    "# ws = ws.dropna()\n",
    "rural_low_income = {}\n",
    "rural_high_income = {}\n",
    "suburban = {}\n",
    "urban = {}\n",
    "\n",
    "years = range(1982, 2016)\n",
    "\n",
    "for year in years:\n",
    "    \n",
    "    income_thresh = .75 * adjusted_inc.loc[(year)]['median_hh_income']\n",
    "    \n",
    "    #rural high income\n",
    "    rhi = ws[((ws['median_hh_income'] >= income_thresh) & (ws['housing_unit_density'] < 16) & (ws['year'] == year))]\n",
    "    rhi_obs = len(rhi.index)\n",
    "    rhi_tot = rhi['total_violations'].sum()\n",
    "    rural_high_income[str(year)] = rhi_tot / rhi_obs\n",
    "    \n",
    "    #rural low income\n",
    "    rli = ws[((ws['median_hh_income'] < income_thresh) & (ws['housing_unit_density'] < 16) & (ws['year'] == year))]\n",
    "    rli_obs = len(rli.index)\n",
    "    rli_tot = rli['total_violations'].sum()\n",
    "    rural_low_income[str(year)] = rli_tot / rli_obs\n",
    "    \n",
    "    #suburban\n",
    "    sub = ws[(ws['housing_unit_density'] >= 16) & (ws['housing_unit_density'] < 380.7) & (ws['year'] == year)]\n",
    "    sub_obs = len(sub.index)\n",
    "    sub_tot = sub['total_violations'].sum()\n",
    "    suburban[str(year)] = sub_tot / sub_obs\n",
    "    \n",
    "    #urban\n",
    "    urb = ws[(ws['housing_unit_density'] > 380.7) & (ws['year'] == year)]\n",
    "    urb_obs = len(urb.index)\n",
    "    urb_tot = urb['total_violations'].sum()\n",
    "    urban[str(year)] = urb_tot / urb_obs"
   ]
  },
  {
   "cell_type": "code",
   "execution_count": 21,
   "metadata": {},
   "outputs": [],
   "source": [
    "#Export \n",
    "with open('../datasets/final/time_trends/rural_low_income.json', 'w') as out:\n",
    "    json.dump(rural_low_income, out)\n",
    "\n",
    "with open('../datasets/final/time_trends/rural_high_income.json', 'w') as out:\n",
    "    json.dump(rural_high_income, out)\n",
    "\n",
    "with open('../datasets/final/time_trends/suburban.json', 'w') as out:\n",
    "    json.dump(suburban, out)\n",
    "\n",
    "with open('../datasets/final/time_trends/urban.json', 'w') as out:\n",
    "    json.dump(urban, out)"
   ]
  },
  {
   "cell_type": "code",
   "execution_count": 26,
   "metadata": {},
   "outputs": [
    {
     "data": {
      "text/plain": [
       "<matplotlib.legend.Legend at 0x1144c9fd0>"
      ]
     },
     "execution_count": 26,
     "metadata": {},
     "output_type": "execute_result"
    },
    {
     "data": {
      "image/png": "[encoded data removed]",
      "text/plain": [
       "<Figure size 432x288 with 1 Axes>"
      ]
     },
     "metadata": {
      "needs_background": "light"
     },
     "output_type": "display_data"
    }
   ],
   "source": [
    "#Graph to see results\n",
    "rural_low_income_df = pd.DataFrame(rural_low_income, index=[0]).transpose()\n",
    "rural_high_df = pd.DataFrame(rural_high_income, index=[0]).transpose()\n",
    "suburban_df = pd.DataFrame(suburban, index=[0]).transpose()\n",
    "urban_df = pd.DataFrame(urban, index=[0]).transpose()\n",
    "\n",
    "ax = rural_low_income_df.plot()\n",
    "rural_high_df.plot(ax=ax)\n",
    "suburban_df.plot(ax=ax)\n",
    "urban_df.plot(ax=ax)\n",
    "ax.legend(['rli', 'rhi', 'sub', 'urb'])"
   ]
  },
  {
   "cell_type": "code",
   "execution_count": null,
   "metadata": {},
   "outputs": [],
   "source": []
  }
 ],
 "metadata": {
  "kernelspec": {
   "display_name": "Python 3",
   "language": "python",
   "name": "python3"
  },
  "language_info": {
   "codemirror_mode": {
    "name": "ipython",
    "version": 3
   },
   "file_extension": ".py",
   "mimetype": "text/x-python",
   "name": "python",
   "nbconvert_exporter": "python",
   "pygments_lexer": "ipython3",
   "version": "3.6.0"
  }
 },
 "nbformat": 4,
 "nbformat_minor": 2
}
