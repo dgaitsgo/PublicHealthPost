{
 "cells": [
  {
   "cell_type": "code",
   "execution_count": 1,
   "metadata": {},
   "outputs": [],
   "source": [
    "#imports\n",
    "import pandas as pd\n",
    "import csv\n",
    "from csv import writer\n",
    "from io import BytesIO"
   ]
  },
  {
   "cell_type": "code",
   "execution_count": 5,
   "metadata": {},
   "outputs": [],
   "source": [
    "#load and reshape data\n",
    "housing = pd.read_csv('../datasets/raw/housing/density_2010.csv', dtype={'GCT_STUB.target-geo-id2' : str })\n",
    "water_systems = pd.read_csv('../datasets/raw/water/water_systems.csv')\n",
    "violations = pd.read_csv('../datasets/raw/water/violations.csv', low_memory=False)\n",
    "income = pd.read_csv('../datasets/transformed/county_hh_median_income.csv', dtype={'FIPS' : str}).set_index(['FIPS'])\n",
    "geocoded_pws = pd.read_csv('../datasets/transformed/geocoded_public_water_systems.csv', dtype={ 'FIPS' : str })\n",
    "violations['year'] = violations['Compliance Period Begin Date'].apply(lambda v : v[-4:])"
   ]
  },
  {
   "cell_type": "code",
   "execution_count": 7,
   "metadata": {},
   "outputs": [],
   "source": [
    "#preparing data for look up\n",
    "\n",
    "#violations\n",
    "#group by year as to make getting counts easier\n",
    "vio_year = violations.drop_duplicates()\n",
    "vio_year = vio_year[['PWS ID', 'year']]\n",
    "vio_year = vio_year.groupby(['PWS ID', 'year']).size().reset_index(name='counts')\n",
    "vio_year = vio_year.set_index(['PWS ID', 'year'])\n",
    "\n",
    "#housing\n",
    "#make column names friendler\n",
    "housing['FIPS'] = housing['GCT_STUB.target-geo-id2']\n",
    "housing['housing_density'] = housing['SUBHD0402']\n",
    "housing = housing.set_index('FIPS')\n",
    "\n",
    "#water systems\n",
    "#join them with their FIPS code\n",
    "water_systems = water_systems.sort_values(by='PWS ID')\n",
    "water_geo = pd.merge(water_systems, geocoded_pws[['PWS ID', 'FIPS']], on='PWS ID')\n"
   ]
  },
  {
   "cell_type": "code",
   "execution_count": 8,
   "metadata": {},
   "outputs": [],
   "source": [
    "# The big join!\n",
    "# columns in goal dataset : PWS_ID, year, total_violations, median_income, housing_density\n",
    "\n",
    "years = list(map(lambda y : str(y), range(1982, 2016)))\n",
    "csv_writer = None\n",
    "with open('../datasets/final/cws_violations_p_year_w_demo.csv', 'w') as csvfile:\n",
    "    csv_writer = csv.writer(csvfile, delimiter=',', quotechar='\"', quoting=csv.QUOTE_MINIMAL)\n",
    "    writer.writerow(['PWS_ID','year','total_violations','median_hh_income','housing_unit_density'])\n",
    "    for pws in water_geo.itertuples():\n",
    "        _id = getattr(pws, '_1')\n",
    "        _fips = getattr(pws, 'FIPS')\n",
    "        for i, _year in enumerate(years):\n",
    "            _total_violations = 0\n",
    "            _median_income = float('nan')\n",
    "            _housing_density = float('nan')\n",
    "            if (_id, _year) in vio_year.index:\n",
    "                _total_violations = vio_year.loc[(_id, _year)]['counts']\n",
    "            if (_fips) in income.index:\n",
    "                _median_income = income.loc[(_fips)][_year]\n",
    "            if (_fips) in housing.index:\n",
    "                _housing_density = housing.loc[(_fips)]['housing_density']  \n",
    "            row = [_id,_year,_total_violations,_median_income,_housing_density]\n",
    "            csv_writer.writerow(row)\n"
   ]
  }
 ],
 "metadata": {
  "kernelspec": {
   "display_name": "Python 3",
   "language": "python",
   "name": "python3"
  },
  "language_info": {
   "codemirror_mode": {
    "name": "ipython",
    "version": 3
   },
   "file_extension": ".py",
   "mimetype": "text/x-python",
   "name": "python",
   "nbconvert_exporter": "python",
   "pygments_lexer": "ipython3",
   "version": "3.6.0"
  }
 },
 "nbformat": 4,
 "nbformat_minor": 2
}
