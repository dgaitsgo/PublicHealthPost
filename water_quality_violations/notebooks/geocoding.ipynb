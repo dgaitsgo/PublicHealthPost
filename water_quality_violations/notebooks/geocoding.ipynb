{
 "cells": [
  {
   "cell_type": "code",
   "execution_count": 3,
   "metadata": {},
   "outputs": [],
   "source": [
    "#imports and setup\n",
    "import pandas as pd\n",
    "import googlemaps\n",
    "\n",
    "GOOGLE_MAPS_API_KEY = ''\n",
    "gmaps = googlemaps.Client(key=GOOGLE_MAPS_API_KEY)"
   ]
  },
  {
   "cell_type": "code",
   "execution_count": 7,
   "metadata": {},
   "outputs": [],
   "source": [
    "#load and prep data\n",
    "water_systems = pd.read_csv('../datasets/raw/water/water_systems.csv').set_index('PWS ID')\n",
    "violations = pd.read_csv('../datasets/raw/water/violations.csv', low_memory=False)\n",
    "violations['location'] = ''"
   ]
  },
  {
   "cell_type": "code",
   "execution_count": 6,
   "metadata": {},
   "outputs": [],
   "source": [
    "#Get unique addresses of all water systems that had a violation\n",
    "address_table = {}\n",
    "\n",
    "ids = list(set(violations['PWS ID'].tolist()))\n",
    "for id in ids:\n",
    "    address_table[id] = {\n",
    "        'address' : None,\n",
    "        'location' : None\n",
    "    }\n",
    "\n",
    "for row in violations.itertuples(index=True, name='Pandas'):\n",
    "    _id = getattr(row, '_1')\n",
    "    if address_table[_id]['address'] == None:\n",
    "        _city_name = getattr(row, '_16')\n",
    "        _state = getattr(row, '_3')\n",
    "        _zip = getattr(row, '_13')\n",
    "        address_table[_id]['address'] = _city_name + ', ' + _state + ', ' + _zip"
   ]
  },
  {
   "cell_type": "code",
   "execution_count": null,
   "metadata": {},
   "outputs": [],
   "source": [
    "#geocode violation system addresses\n",
    "for id in ids:\n",
    "    address = address_table[id]['address']\n",
    "    loc = gmaps.geocode(address)\n",
    "    if len(loc) != 0:\n",
    "        address_table[id]['location'] = loc[0]['geometry']['location']"
   ]
  },
  {
   "cell_type": "code",
   "execution_count": null,
   "metadata": {},
   "outputs": [],
   "source": [
    "#geocode community water systems\n",
    "water_system_ids = list(water_systems.index)\n",
    "\n",
    "for _id in water_system_ids:\n",
    "    if _id not in adress_table:\n",
    "        record = water_systems.loc[(_id)]\n",
    "        _city = getattr(record, 'City Name')\n",
    "        _state = getattr(record, 'Primacy Agency')\n",
    "        _zip = str(getattr(record, 'Zip Code'))\n",
    "        address = str(_city) + ',' + str(_state) + ',' + _zip\n",
    "        loc = gmaps.geocode(address)\n",
    "        if len(loc) != 0:\n",
    "            address_table[_id] = loc[0]['geometry']['location']"
   ]
  },
  {
   "cell_type": "code",
   "execution_count": null,
   "metadata": {},
   "outputs": [],
   "source": [
    "#export to json and later convert to geojson and apply vector tools in QGIS to associated a county with each system\n",
    "import json\n",
    "with open('../datasets/transformed/geocoded_violations.json', 'w') as outfile:\n",
    "    json.dump(address_table, outfile)"
   ]
  }
 ],
 "metadata": {
  "kernelspec": {
   "display_name": "Python 3",
   "language": "python",
   "name": "python3"
  },
  "language_info": {
   "codemirror_mode": {
    "name": "ipython",
    "version": 3
   },
   "file_extension": ".py",
   "mimetype": "text/x-python",
   "name": "python",
   "nbconvert_exporter": "python",
   "pygments_lexer": "ipython3",
   "version": "3.6.0"
  }
 },
 "nbformat": 4,
 "nbformat_minor": 2
}
