{
 "cells": [
  {
   "cell_type": "code",
   "execution_count": 33,
   "metadata": {},
   "outputs": [],
   "source": [
    "import pandas as pd\n",
    "import json\n",
    "import matplotlib\n",
    "import matplotlib.pyplot as plt\n",
    "%matplotlib inline  "
   ]
  },
  {
   "cell_type": "code",
   "execution_count": 53,
   "metadata": {},
   "outputs": [],
   "source": [
    "ws = pd.read_csv('./dataSets/cws_violations.csv')"
   ]
  },
  {
   "cell_type": "code",
   "execution_count": 42,
   "metadata": {},
   "outputs": [],
   "source": [
    "import easymoney as em\n",
    "from easymoney.money import EasyPeasy\n",
    "ep = EasyPeasy()\n"
   ]
  },
  {
   "cell_type": "code",
   "execution_count": 52,
   "metadata": {},
   "outputs": [
    {
     "name": "stderr",
     "output_type": "stream",
     "text": [
      "/Library/Frameworks/Python.framework/Versions/3.6/lib/python3.6/site-packages/ipykernel_launcher.py:8: FutureWarning: set_value is deprecated and will be removed in a future release. Please use .at[] or .iat[] accessors instead\n",
      "  \n",
      "/Library/Frameworks/Python.framework/Versions/3.6/lib/python3.6/site-packages/ipykernel_launcher.py:9: FutureWarning: set_value is deprecated and will be removed in a future release. Please use .at[] or .iat[] accessors instead\n",
      "  if __name__ == '__main__':\n"
     ]
    }
   ],
   "source": [
    "med_inc = pd.read_csv('./dataSets/usa_median_hh_income.csv')\n",
    "adjusted_inc = pd.DataFrame(columns=['year', 'median_hh_income'])\n",
    "\n",
    "for i, inc in enumerate(med_inc.itertuples()):\n",
    "    _year = getattr(inc, 'year')\n",
    "    _inc = getattr(inc, 'median_hh_income')\n",
    "    _2015_dollars = ep.normalize(amount=_inc, region=\"USA\", from_year=_year, to_year=2015)\n",
    "    adjusted_inc.set_value(i, 'year', _year)\n",
    "    adjusted_inc.set_value(i, 'median_hh_income', _2015_dollars)\n",
    "\n",
    "adjusted_inc.head()\n",
    "adjusted_inc = adjusted_inc.set_index('year')\n",
    "    "
   ]
  },
  {
   "cell_type": "code",
   "execution_count": 51,
   "metadata": {},
   "outputs": [
    {
     "data": {
      "text/html": [
       "<div>\n",
       "<style scoped>\n",
       "    .dataframe tbody tr th:only-of-type {\n",
       "        vertical-align: middle;\n",
       "    }\n",
       "\n",
       "    .dataframe tbody tr th {\n",
       "        vertical-align: top;\n",
       "    }\n",
       "\n",
       "    .dataframe thead th {\n",
       "        text-align: right;\n",
       "    }\n",
       "</style>\n",
       "<table border=\"1\" class=\"dataframe\">\n",
       "  <thead>\n",
       "    <tr style=\"text-align: right;\">\n",
       "      <th></th>\n",
       "      <th>year</th>\n",
       "      <th>median_hh_income</th>\n",
       "    </tr>\n",
       "  </thead>\n",
       "  <tbody>\n",
       "    <tr>\n",
       "      <th>0</th>\n",
       "      <td>1982</td>\n",
       "      <td>40570.9</td>\n",
       "    </tr>\n",
       "    <tr>\n",
       "      <th>1</th>\n",
       "      <td>1983</td>\n",
       "      <td>40483</td>\n",
       "    </tr>\n",
       "    <tr>\n",
       "      <th>2</th>\n",
       "      <td>1984</td>\n",
       "      <td>44064.6</td>\n",
       "    </tr>\n",
       "    <tr>\n",
       "      <th>3</th>\n",
       "      <td>1985</td>\n",
       "      <td>44839.7</td>\n",
       "    </tr>\n",
       "    <tr>\n",
       "      <th>4</th>\n",
       "      <td>1986</td>\n",
       "      <td>46387.4</td>\n",
       "    </tr>\n",
       "  </tbody>\n",
       "</table>\n",
       "</div>"
      ],
      "text/plain": [
       "   year median_hh_income\n",
       "0  1982          40570.9\n",
       "1  1983            40483\n",
       "2  1984          44064.6\n",
       "3  1985          44839.7\n",
       "4  1986          46387.4"
      ]
     },
     "execution_count": 51,
     "metadata": {},
     "output_type": "execute_result"
    }
   ],
   "source": []
  },
  {
   "cell_type": "markdown",
   "metadata": {},
   "source": [
    "'What is the average violations for community water systems in high income rural areas in 1993?'\n",
    "\n",
    "rural = <16 units per square mile\n",
    "sub-urban = 16–380.7\n",
    "urban => 380.7\n",
    "\n",
    "low income is below 75% of national median household income. In year 2015, national median household income was $55,775\n",
    "\n",
    "i.e. 41831.25"
   ]
  },
  {
   "cell_type": "code",
   "execution_count": 8,
   "metadata": {},
   "outputs": [],
   "source": [
    "high_income_rural_1993 = ws[((ws['median_hh_income'] >= 41931.25) & (ws['housing_unit_density'] < 16) & (ws['year'] == 1995))]"
   ]
  },
  {
   "cell_type": "code",
   "execution_count": 13,
   "metadata": {},
   "outputs": [
    {
     "data": {
      "text/plain": [
       "0.16040462427745664"
      ]
     },
     "execution_count": 13,
     "metadata": {},
     "output_type": "execute_result"
    }
   ],
   "source": [
    "observations = len(high_income_rural_1993.index)\n",
    "total = high_income_rural_1993['total_violations'].sum()\n",
    "total / observations\n"
   ]
  },
  {
   "cell_type": "code",
   "execution_count": 54,
   "metadata": {},
   "outputs": [],
   "source": [
    "ws = ws.dropna()\n",
    "rural_low_income = {}\n",
    "rural_high_income = {}\n",
    "suburban = {}\n",
    "urban = {}\n",
    "\n",
    "years = range(1982, 2016)\n",
    "\n",
    "for year in years:\n",
    "    \n",
    "    income_thresh = .75 * adjusted_inc.loc[(year)]['median_hh_income']\n",
    "    \n",
    "    #rural high income\n",
    "    rhi = ws[((ws['median_hh_income'] >= income_thresh) & (ws['housing_unit_density'] < 16) & (ws['year'] == year))]\n",
    "    rhi_obs = len(rhi.index)\n",
    "    rhi_tot = rhi['total_violations'].sum()\n",
    "    rural_high_income[str(year)] = rhi_tot / rhi_obs\n",
    "    \n",
    "    #rural low income\n",
    "    rli = ws[((ws['median_hh_income'] < income_thresh) & (ws['housing_unit_density'] < 16) & (ws['year'] == year))]\n",
    "    rli_obs = len(rli.index)\n",
    "    rli_tot = rli['total_violations'].sum()\n",
    "    rural_low_income[str(year)] = rli_tot / rli_obs\n",
    "    \n",
    "    #suburban\n",
    "    sub = ws[(ws['housing_unit_density'] >= 16) & (ws['housing_unit_density'] < 380.7) & (ws['year'] == year)]\n",
    "    sub_obs = len(sub.index)\n",
    "    sub_tot = sub['total_violations'].sum()\n",
    "    suburban[str(year)] = sub_tot / sub_obs\n",
    "    \n",
    "    #urban\n",
    "    urb = ws[(ws['housing_unit_density'] > 380.7) & (ws['year'] == year)]\n",
    "    urb_obs = len(urb.index)\n",
    "    urb_tot = urb['total_violations'].sum()\n",
    "    urban[str(year)] = urb_tot / urb_obs"
   ]
  },
  {
   "cell_type": "code",
   "execution_count": 21,
   "metadata": {},
   "outputs": [],
   "source": [
    "with open('./dataSets/time_trends/rural_low_income.json', 'w') as out:\n",
    "    json.dump(rural_low_income, out)\n",
    "\n",
    "with open('./dataSets/time_trends/rural_high_income.json', 'w') as out:\n",
    "    json.dump(rural_high_income, out)\n",
    "\n",
    "with open('./dataSets/time_trends/suburban.json', 'w') as out:\n",
    "    json.dump(suburban, out)\n",
    "\n",
    "with open('./dataSets/time_trends/urban.json', 'w') as out:\n",
    "    json.dump(urban, out)"
   ]
  },
  {
   "cell_type": "code",
   "execution_count": 55,
   "metadata": {},
   "outputs": [
    {
     "data": {
      "text/plain": [
       "<matplotlib.axes._subplots.AxesSubplot at 0x113d65828>"
      ]
     },
     "execution_count": 55,
     "metadata": {},
     "output_type": "execute_result"
    },
    {
     "data": {
      "image/png": "[encoded data removed]",
      "text/plain": [
       "<Figure size 432x288 with 1 Axes>"
      ]
     },
     "metadata": {
      "needs_background": "light"
     },
     "output_type": "display_data"
    }
   ],
   "source": [
    "rural_low_income_df = pd.DataFrame(rural_low_income, index=[0]).transpose()\n",
    "rural_high_df = pd.DataFrame(rural_high_income, index=[0]).transpose()\n",
    "suburban_df = pd.DataFrame(suburban, index=[0]).transpose()\n",
    "urban_df = pd.DataFrame(urban, index=[0]).transpose()\n",
    "\n",
    "ax = rural_low_income_df.plot()\n",
    "rural_high_df.plot(ax=ax)\n",
    "suburban_df.plot(ax=ax)\n",
    "urban_df.plot(ax=ax)\n"
   ]
  },
  {
   "cell_type": "code",
   "execution_count": null,
   "metadata": {},
   "outputs": [],
   "source": []
  }
 ],
 "metadata": {
  "kernelspec": {
   "display_name": "Python 3",
   "language": "python",
   "name": "python3"
  },
  "language_info": {
   "codemirror_mode": {
    "name": "ipython",
    "version": 3
   },
   "file_extension": ".py",
   "mimetype": "text/x-python",
   "name": "python",
   "nbconvert_exporter": "python",
   "pygments_lexer": "ipython3",
   "version": "3.6.0"
  }
 },
 "nbformat": 4,
 "nbformat_minor": 2
}
